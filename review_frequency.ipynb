{
 "cells": [
  {
   "cell_type": "markdown",
   "metadata": {},
   "source": [
    "## The Most Frequency Words in Review"
   ]
  },
  {
   "cell_type": "markdown",
   "metadata": {},
   "source": [
    "The jupyter notebook is to analyse what the most frequency words used by reviewers to describe their experience in Airbnb lodgings and homestays. We focus on nouns, adjectives, adverbs in reviews to decribe a listing property. We used reviews.csv dataset."
   ]
  },
  {
   "cell_type": "markdown",
   "metadata": {},
   "source": [
    "### Read the Data"
   ]
  },
  {
   "cell_type": "code",
   "execution_count": 1,
   "metadata": {},
   "outputs": [
    {
     "data": {
      "text/html": [
       "<div>\n",
       "<style scoped>\n",
       "    .dataframe tbody tr th:only-of-type {\n",
       "        vertical-align: middle;\n",
       "    }\n",
       "\n",
       "    .dataframe tbody tr th {\n",
       "        vertical-align: top;\n",
       "    }\n",
       "\n",
       "    .dataframe thead th {\n",
       "        text-align: right;\n",
       "    }\n",
       "</style>\n",
       "<table border=\"1\" class=\"dataframe\">\n",
       "  <thead>\n",
       "    <tr style=\"text-align: right;\">\n",
       "      <th></th>\n",
       "      <th>listing_id</th>\n",
       "      <th>id</th>\n",
       "      <th>date</th>\n",
       "      <th>reviewer_id</th>\n",
       "      <th>reviewer_name</th>\n",
       "      <th>comments</th>\n",
       "    </tr>\n",
       "  </thead>\n",
       "  <tbody>\n",
       "    <tr>\n",
       "      <th>0</th>\n",
       "      <td>7202016</td>\n",
       "      <td>38917982</td>\n",
       "      <td>2015-07-19</td>\n",
       "      <td>28943674</td>\n",
       "      <td>Bianca</td>\n",
       "      <td>Cute and cozy place. Perfect location to every...</td>\n",
       "    </tr>\n",
       "    <tr>\n",
       "      <th>1</th>\n",
       "      <td>7202016</td>\n",
       "      <td>39087409</td>\n",
       "      <td>2015-07-20</td>\n",
       "      <td>32440555</td>\n",
       "      <td>Frank</td>\n",
       "      <td>Kelly has a great room in a very central locat...</td>\n",
       "    </tr>\n",
       "    <tr>\n",
       "      <th>2</th>\n",
       "      <td>7202016</td>\n",
       "      <td>39820030</td>\n",
       "      <td>2015-07-26</td>\n",
       "      <td>37722850</td>\n",
       "      <td>Ian</td>\n",
       "      <td>Very spacious apartment, and in a great neighb...</td>\n",
       "    </tr>\n",
       "    <tr>\n",
       "      <th>3</th>\n",
       "      <td>7202016</td>\n",
       "      <td>40813543</td>\n",
       "      <td>2015-08-02</td>\n",
       "      <td>33671805</td>\n",
       "      <td>George</td>\n",
       "      <td>Close to Seattle Center and all it has to offe...</td>\n",
       "    </tr>\n",
       "    <tr>\n",
       "      <th>4</th>\n",
       "      <td>7202016</td>\n",
       "      <td>41986501</td>\n",
       "      <td>2015-08-10</td>\n",
       "      <td>34959538</td>\n",
       "      <td>Ming</td>\n",
       "      <td>Kelly was a great host and very accommodating ...</td>\n",
       "    </tr>\n",
       "  </tbody>\n",
       "</table>\n",
       "</div>"
      ],
      "text/plain": [
       "   listing_id        id        date  reviewer_id reviewer_name  \\\n",
       "0     7202016  38917982  2015-07-19     28943674        Bianca   \n",
       "1     7202016  39087409  2015-07-20     32440555         Frank   \n",
       "2     7202016  39820030  2015-07-26     37722850           Ian   \n",
       "3     7202016  40813543  2015-08-02     33671805        George   \n",
       "4     7202016  41986501  2015-08-10     34959538          Ming   \n",
       "\n",
       "                                            comments  \n",
       "0  Cute and cozy place. Perfect location to every...  \n",
       "1  Kelly has a great room in a very central locat...  \n",
       "2  Very spacious apartment, and in a great neighb...  \n",
       "3  Close to Seattle Center and all it has to offe...  \n",
       "4  Kelly was a great host and very accommodating ...  "
      ]
     },
     "execution_count": 1,
     "metadata": {},
     "output_type": "execute_result"
    }
   ],
   "source": [
    "import nltk\n",
    "import pandas as pd\n",
    "import numpy as np\n",
    "#nltk.download('punkt')\n",
    "#nltk.download('stopwords')\n",
    "#nltk.download('averaged_perceptron_tagger')\n",
    "data_reviews=pd.read_csv('reviews.csv')\n",
    "data_reviews.head()"
   ]
  },
  {
   "cell_type": "markdown",
   "metadata": {},
   "source": [
    "### Data Processing"
   ]
  },
  {
   "cell_type": "code",
   "execution_count": 2,
   "metadata": {
    "scrolled": true
   },
   "outputs": [
    {
     "data": {
      "text/html": [
       "<div>\n",
       "<style scoped>\n",
       "    .dataframe tbody tr th:only-of-type {\n",
       "        vertical-align: middle;\n",
       "    }\n",
       "\n",
       "    .dataframe tbody tr th {\n",
       "        vertical-align: top;\n",
       "    }\n",
       "\n",
       "    .dataframe thead th {\n",
       "        text-align: right;\n",
       "    }\n",
       "</style>\n",
       "<table border=\"1\" class=\"dataframe\">\n",
       "  <thead>\n",
       "    <tr style=\"text-align: right;\">\n",
       "      <th></th>\n",
       "      <th>listing_id</th>\n",
       "      <th>id</th>\n",
       "      <th>date</th>\n",
       "      <th>reviewer_id</th>\n",
       "      <th>reviewer_name</th>\n",
       "      <th>comments</th>\n",
       "      <th>comments_token</th>\n",
       "    </tr>\n",
       "  </thead>\n",
       "  <tbody>\n",
       "    <tr>\n",
       "      <th>0</th>\n",
       "      <td>7202016</td>\n",
       "      <td>38917982</td>\n",
       "      <td>2015-07-19</td>\n",
       "      <td>28943674</td>\n",
       "      <td>Bianca</td>\n",
       "      <td>Cute and cozy place. Perfect location to every...</td>\n",
       "      <td>[Cute, and, cozy, place, ., Perfect, location,...</td>\n",
       "    </tr>\n",
       "    <tr>\n",
       "      <th>1</th>\n",
       "      <td>7202016</td>\n",
       "      <td>39087409</td>\n",
       "      <td>2015-07-20</td>\n",
       "      <td>32440555</td>\n",
       "      <td>Frank</td>\n",
       "      <td>Kelly has a great room in a very central locat...</td>\n",
       "      <td>[Kelly, has, a, great, room, in, a, very, cent...</td>\n",
       "    </tr>\n",
       "    <tr>\n",
       "      <th>2</th>\n",
       "      <td>7202016</td>\n",
       "      <td>39820030</td>\n",
       "      <td>2015-07-26</td>\n",
       "      <td>37722850</td>\n",
       "      <td>Ian</td>\n",
       "      <td>Very spacious apartment, and in a great neighb...</td>\n",
       "      <td>[Very, spacious, apartment, ,, and, in, a, gre...</td>\n",
       "    </tr>\n",
       "    <tr>\n",
       "      <th>3</th>\n",
       "      <td>7202016</td>\n",
       "      <td>40813543</td>\n",
       "      <td>2015-08-02</td>\n",
       "      <td>33671805</td>\n",
       "      <td>George</td>\n",
       "      <td>Close to Seattle Center and all it has to offe...</td>\n",
       "      <td>[Close, to, Seattle, Center, and, all, it, has...</td>\n",
       "    </tr>\n",
       "    <tr>\n",
       "      <th>4</th>\n",
       "      <td>7202016</td>\n",
       "      <td>41986501</td>\n",
       "      <td>2015-08-10</td>\n",
       "      <td>34959538</td>\n",
       "      <td>Ming</td>\n",
       "      <td>Kelly was a great host and very accommodating ...</td>\n",
       "      <td>[Kelly, was, a, great, host, and, very, accomm...</td>\n",
       "    </tr>\n",
       "  </tbody>\n",
       "</table>\n",
       "</div>"
      ],
      "text/plain": [
       "   listing_id        id        date  reviewer_id reviewer_name  \\\n",
       "0     7202016  38917982  2015-07-19     28943674        Bianca   \n",
       "1     7202016  39087409  2015-07-20     32440555         Frank   \n",
       "2     7202016  39820030  2015-07-26     37722850           Ian   \n",
       "3     7202016  40813543  2015-08-02     33671805        George   \n",
       "4     7202016  41986501  2015-08-10     34959538          Ming   \n",
       "\n",
       "                                            comments  \\\n",
       "0  Cute and cozy place. Perfect location to every...   \n",
       "1  Kelly has a great room in a very central locat...   \n",
       "2  Very spacious apartment, and in a great neighb...   \n",
       "3  Close to Seattle Center and all it has to offe...   \n",
       "4  Kelly was a great host and very accommodating ...   \n",
       "\n",
       "                                      comments_token  \n",
       "0  [Cute, and, cozy, place, ., Perfect, location,...  \n",
       "1  [Kelly, has, a, great, room, in, a, very, cent...  \n",
       "2  [Very, spacious, apartment, ,, and, in, a, gre...  \n",
       "3  [Close, to, Seattle, Center, and, all, it, has...  \n",
       "4  [Kelly, was, a, great, host, and, very, accomm...  "
      ]
     },
     "execution_count": 2,
     "metadata": {},
     "output_type": "execute_result"
    }
   ],
   "source": [
    "#tokenize reviews \n",
    "data_reviews['comments_token']=data_reviews['comments'].astype('str').map(lambda comment:nltk.word_tokenize(comment))\n",
    "data_reviews.head()"
   ]
  },
  {
   "cell_type": "code",
   "execution_count": 3,
   "metadata": {
    "scrolled": true
   },
   "outputs": [
    {
     "data": {
      "text/html": [
       "<div>\n",
       "<style scoped>\n",
       "    .dataframe tbody tr th:only-of-type {\n",
       "        vertical-align: middle;\n",
       "    }\n",
       "\n",
       "    .dataframe tbody tr th {\n",
       "        vertical-align: top;\n",
       "    }\n",
       "\n",
       "    .dataframe thead th {\n",
       "        text-align: right;\n",
       "    }\n",
       "</style>\n",
       "<table border=\"1\" class=\"dataframe\">\n",
       "  <thead>\n",
       "    <tr style=\"text-align: right;\">\n",
       "      <th></th>\n",
       "      <th>listing_id</th>\n",
       "      <th>comments_token</th>\n",
       "      <th>comments_text</th>\n",
       "    </tr>\n",
       "  </thead>\n",
       "  <tbody>\n",
       "    <tr>\n",
       "      <th>0</th>\n",
       "      <td>7202016</td>\n",
       "      <td>[Cute, and, cozy, place, ., Perfect, location,...</td>\n",
       "      <td>[Cute, cozy, place, Perfect, location, everyth...</td>\n",
       "    </tr>\n",
       "    <tr>\n",
       "      <th>1</th>\n",
       "      <td>7202016</td>\n",
       "      <td>[Kelly, has, a, great, room, in, a, very, cent...</td>\n",
       "      <td>[Kelly, great, room, central, location, Beauti...</td>\n",
       "    </tr>\n",
       "    <tr>\n",
       "      <th>2</th>\n",
       "      <td>7202016</td>\n",
       "      <td>[Very, spacious, apartment, ,, and, in, a, gre...</td>\n",
       "      <td>[Very, spacious, apartment, great, neighborhoo...</td>\n",
       "    </tr>\n",
       "    <tr>\n",
       "      <th>3</th>\n",
       "      <td>7202016</td>\n",
       "      <td>[Close, to, Seattle, Center, and, all, it, has...</td>\n",
       "      <td>[Close, Seattle, Center, offer, ballet, theate...</td>\n",
       "    </tr>\n",
       "    <tr>\n",
       "      <th>4</th>\n",
       "      <td>7202016</td>\n",
       "      <td>[Kelly, was, a, great, host, and, very, accomm...</td>\n",
       "      <td>[Kelly, great, host, accommodating, great, nei...</td>\n",
       "    </tr>\n",
       "  </tbody>\n",
       "</table>\n",
       "</div>"
      ],
      "text/plain": [
       "   listing_id                                     comments_token  \\\n",
       "0     7202016  [Cute, and, cozy, place, ., Perfect, location,...   \n",
       "1     7202016  [Kelly, has, a, great, room, in, a, very, cent...   \n",
       "2     7202016  [Very, spacious, apartment, ,, and, in, a, gre...   \n",
       "3     7202016  [Close, to, Seattle, Center, and, all, it, has...   \n",
       "4     7202016  [Kelly, was, a, great, host, and, very, accomm...   \n",
       "\n",
       "                                       comments_text  \n",
       "0  [Cute, cozy, place, Perfect, location, everyth...  \n",
       "1  [Kelly, great, room, central, location, Beauti...  \n",
       "2  [Very, spacious, apartment, great, neighborhoo...  \n",
       "3  [Close, Seattle, Center, offer, ballet, theate...  \n",
       "4  [Kelly, great, host, accommodating, great, nei...  "
      ]
     },
     "execution_count": 3,
     "metadata": {},
     "output_type": "execute_result"
    }
   ],
   "source": [
    "#remove the stopwords \n",
    "stops=set(nltk.corpus.stopwords.words('English'))\n",
    "data_reviews['comments_text']=data_reviews['comments_token'].map(lambda comments_token:[word for word in comments_token if word.isalpha() and word not in stops])\n",
    "data_reviews[['listing_id','comments_token','comments_text']].head()"
   ]
  },
  {
   "cell_type": "code",
   "execution_count": 4,
   "metadata": {},
   "outputs": [
    {
     "name": "stdout",
     "output_type": "stream",
     "text": [
      "words to decribe listing2727938\n",
      "['Jessica', 'place', 'delightfully', 'cozy', 'close', 'many', 'awesome', 'sights', 'bars', 'restaurants', 'Her', 'apartment', 'feels', 'homey', 'relaxing', 'perfect', 'fit', 'stays', 'Jessica', 'easy', 'communicate', 'provided', 'everything', 'needed', 'stay', 'Overall', 'great', 'experience', 'I', 'would', 'definitely', 'stay', 'Loved', 'Loved', 'Loved', 'place', 'It', 'totally', 'felt', 'like', 'I', 'coming', 'home', 'apartment', 'Had', 'amazing', 'character', 'I', 'feel', 'like', 'location', 'PERFECT', 'Not', 'far', 'anything', 'Close', 'bus', 'lines', 'get', 'around', 'really', 'safe', 'area', 'Would', 'totally', 'stay', 'Jessica', 'apartment', 'great', 'It', 'quiet', 'street', 'still', 'close', 'enough', 'walk', 'everything', 'Awesome', 'view', 'We', 'really', 'great', 'time', 'Seattle', 'part', 'Jessica', 'place', 'The', 'location', 'really', 'convenient', 'place', 'spacious', 'studio', 'Jessica', 'great', 'host', 'Super', 'helpful', 'getting', 'us', 'info', 'needed', 'apartment', 'The', 'location', 'awesome', 'easy', 'min', 'walk', 'action', 'Capitol', 'Hill', 'close', 'downtown', 'quick', 'drive', 'highway', 'Definitely', 'recommend', 'staying', 'jessica', 'stars', 'place', 'stars', 'many', 'stars', 'place', 'wonderful', 'stay', 'neighborhood', 'lovely', 'jessica', 'fun', 'art', 'walls', 'art', 'cool', 'Jessica', 'spot', 'great', 'place', 'stay', 'quick', 'weekend', 'visit', 'It', 'fifteen', 'minute', 'walk', 'downtown', 'also', 'great', 'restaurants', 'bars', 'within', 'min', 'walking', 'distance', 'The', 'freeway', 'noise', 'little', 'intense', 'probably', 'windows', 'wide', 'open', 'entire', 'time', 'heatwave', 'weather', 'AC', 'however', 'I', 'sure', 'half', 'bad', 'windows', 'closed', 'Jessica', 'super', 'friendly', 'easy', 'us', 'find', 'things', 'Everything', 'super', 'clean', 'great', 'space', 'weekend', 'The', 'apartment', 'exactly', 'Jessica', 'described', 'She', 'made', 'easy', 'get', 'key', 'get', 'The', 'view', 'great', 'The', 'space', 'small', 'perfect', 'us', 'She', 'made', 'whole', 'process', 'easy', 'Love', 'indoor', 'plants', 'unique', 'art', 'The', 'space', 'accurately', 'described', 'listing', 'great', 'location', 'Easily', 'walkable', 'many', 'restaurants', 'venues', 'cabs', 'neighborhood', 'well', 'The', 'plants', 'fabulous', 'art', 'walls', 'made', 'perfect', 'place', 'rest', 'head', 'I', 'would', 'absolutely', 'stay', 'Jessica', 'great', 'host', 'She', 'responsive', 'polite', 'email', 'conversation', 'She', 'gave', 'hints', 'tips', 'public', 'transit', 'places', 'see', 'etc', 'The', 'place', 'great', 'condition', 'exactly', 'way', 'described', 'The', 'apartment', 'definitely', 'close', 'enough', 'everything', 'walk', 'unless', 'super', 'rainy', 'Had', 'great', 'time', 'Jessica', 'sent', 'clear', 'instruction', 'get', 'place', 'I', 'arrived', 'clean', 'tidy', 'The', 'apartment', 'nice', 'lot', 'extravagant', 'bit', 'grotesque', 'details', 'artsy', 'stuff', 'probably', 'like', 'lot', 'Ca', 'say', 'lot', 'neighborhood', 'visit', 'short', 'somewhat', 'hectic', 'seemed', 'quite', 'nice', 'convenient', 'Jessica', 'apartment', 'sweet', 'lots', 'lighting', 'necessity', 'nice', 'little', 'breakfast', 'nook', 'kitchen', 'Cozy', 'private', 'lots', 'great', 'art', 'memorabilia', 'walls', 'As', 'far', 'neighborhood', 'goes', 'part', 'Capitol', 'Hill', 'probably', 'favorite', 'bit', 'area', 'everything', 'walking', 'distance', 'thick', 'handful', 'great', 'intensity', 'crowds', 'Analog', 'Coffee', 'Barjot', 'Sun', 'Liquor', 'Jessica', 'effective', 'efficient', 'communicator', 'provided', 'lots', 'information', 'area', 'apartment', 'Seattle', 'Great', 'host', 'great', 'space', 'Jessica', 'Ish', 'great', 'host', 'provided', 'really', 'great', 'tips', 'see', 'Seattle', 'The', 'flat', 'beautiful', 'really', 'well', 'decorated', 'homely', 'The', 'location', 'perfect', 'us', 'Jessica', 'place', 'absolutely', 'amazing', 'It', 'close', 'everything', 'Capitol', 'Hill', 'extremely', 'accommodating', 'I', 'make', 'last', 'minute', 'reservation', 'The', 'apartment', 'perfect', 'two', 'people', 'amazing', 'view', 'kitchen', 'nook', 'We', 'came', 'hot', 'weekend', 'Seattle', 'leave', 'windows', 'open', 'whole', 'time', 'noise', 'traffic', 'outside', 'little', 'annoying', 'bad', 'Jessica', 'easy', 'communicate', 'left', 'us', 'detailed', 'extensive', 'itinerary', 'complete', 'list', 'recommendations', 'within', 'walking', 'distance', 'The', 'location', 'perfect', 'us', 'travel', 'car', 'relied', 'public', 'transportation', 'easy', 'us', 'navigate', 'close', 'Overall', 'great', 'place', 'even', 'better', 'experience', 'We', 'would', 'definitely', 'stay', 'Thanks', 'The', 'neighborhood', 'beat', 'So', 'many', 'bars', 'restaurants', 'parks', 'shops', 'within', 'walking', 'distance', 'apartment', 'Jessica', 'kindly', 'towels', 'bedding', 'coffee', 'local', 'brunch', 'guide', 'ready', 'She', 'great', 'host']\n"
     ]
    }
   ],
   "source": [
    "#aggregate reviews of one listing_id \n",
    "listing=set(data_reviews['listing_id'])\n",
    "comments_text_new=[]\n",
    "listing_id_new=[]\n",
    "for l in listing:\n",
    "    #print (l)\n",
    "    listing_id_new.append(l)\n",
    "    comment=[]\n",
    "    listing_data=data_reviews[data_reviews.listing_id==l].copy()\n",
    "    for c in range(len(listing_data)):\n",
    "        comment=comment+listing_data['comments_text'].iloc[c]\n",
    "        \n",
    "    comments_text_new.append(comment)\n",
    "    #print (comments_text_new)\n",
    "print ('words to decribe listing{}'.format(listing_id_new[0]))\n",
    "print (comments_text_new[0])\n",
    "#print (listing_id_new[0])\n"
   ]
  },
  {
   "cell_type": "code",
   "execution_count": 5,
   "metadata": {},
   "outputs": [],
   "source": [
    "#new dataset data_reviews_agg_df to store aggregated reviews \n",
    "data_reviews_agg_df=pd.DataFrame(listing_id_new,columns=['listing_id_new'])\n",
    "data_reviews_agg_df.insert(loc=data_reviews_agg_df.shape[1],column='comments_text_new',value=comments_text_new)"
   ]
  },
  {
   "cell_type": "code",
   "execution_count": 6,
   "metadata": {
    "scrolled": true
   },
   "outputs": [
    {
     "data": {
      "text/html": [
       "<div>\n",
       "<style scoped>\n",
       "    .dataframe tbody tr th:only-of-type {\n",
       "        vertical-align: middle;\n",
       "    }\n",
       "\n",
       "    .dataframe tbody tr th {\n",
       "        vertical-align: top;\n",
       "    }\n",
       "\n",
       "    .dataframe thead th {\n",
       "        text-align: right;\n",
       "    }\n",
       "</style>\n",
       "<table border=\"1\" class=\"dataframe\">\n",
       "  <thead>\n",
       "    <tr style=\"text-align: right;\">\n",
       "      <th></th>\n",
       "      <th>listing_id_new</th>\n",
       "      <th>comments_text_new</th>\n",
       "    </tr>\n",
       "  </thead>\n",
       "  <tbody>\n",
       "    <tr>\n",
       "      <th>0</th>\n",
       "      <td>2727938</td>\n",
       "      <td>[Jessica, place, delightfully, cozy, close, ma...</td>\n",
       "    </tr>\n",
       "    <tr>\n",
       "      <th>1</th>\n",
       "      <td>598023</td>\n",
       "      <td>[Jeff, friendly, host, We, chance, go, togethe...</td>\n",
       "    </tr>\n",
       "    <tr>\n",
       "      <th>2</th>\n",
       "      <td>794633</td>\n",
       "      <td>[Great, space, good, location, gracious, host,...</td>\n",
       "    </tr>\n",
       "    <tr>\n",
       "      <th>3</th>\n",
       "      <td>958475</td>\n",
       "      <td>[When, arrived, Annex, everything, arranged, l...</td>\n",
       "    </tr>\n",
       "    <tr>\n",
       "      <th>4</th>\n",
       "      <td>7381005</td>\n",
       "      <td>[Magic, Jeff, place, incredible, location, per...</td>\n",
       "    </tr>\n",
       "  </tbody>\n",
       "</table>\n",
       "</div>"
      ],
      "text/plain": [
       "   listing_id_new                                  comments_text_new\n",
       "0         2727938  [Jessica, place, delightfully, cozy, close, ma...\n",
       "1          598023  [Jeff, friendly, host, We, chance, go, togethe...\n",
       "2          794633  [Great, space, good, location, gracious, host,...\n",
       "3          958475  [When, arrived, Annex, everything, arranged, l...\n",
       "4         7381005  [Magic, Jeff, place, incredible, location, per..."
      ]
     },
     "execution_count": 6,
     "metadata": {},
     "output_type": "execute_result"
    }
   ],
   "source": [
    "data_reviews_agg_df.head()"
   ]
  },
  {
   "cell_type": "code",
   "execution_count": 7,
   "metadata": {
    "scrolled": true
   },
   "outputs": [
    {
     "data": {
      "text/html": [
       "<div>\n",
       "<style scoped>\n",
       "    .dataframe tbody tr th:only-of-type {\n",
       "        vertical-align: middle;\n",
       "    }\n",
       "\n",
       "    .dataframe tbody tr th {\n",
       "        vertical-align: top;\n",
       "    }\n",
       "\n",
       "    .dataframe thead th {\n",
       "        text-align: right;\n",
       "    }\n",
       "</style>\n",
       "<table border=\"1\" class=\"dataframe\">\n",
       "  <thead>\n",
       "    <tr style=\"text-align: right;\">\n",
       "      <th></th>\n",
       "      <th>listing_id_new</th>\n",
       "      <th>comments_text_new</th>\n",
       "      <th>comments_pos</th>\n",
       "    </tr>\n",
       "  </thead>\n",
       "  <tbody>\n",
       "    <tr>\n",
       "      <th>0</th>\n",
       "      <td>2727938</td>\n",
       "      <td>[Jessica, place, delightfully, cozy, close, ma...</td>\n",
       "      <td>[(Jessica, NNP), (place, NN), (delightfully, R...</td>\n",
       "    </tr>\n",
       "    <tr>\n",
       "      <th>1</th>\n",
       "      <td>598023</td>\n",
       "      <td>[Jeff, friendly, host, We, chance, go, togethe...</td>\n",
       "      <td>[(Jeff, NNP), (friendly, RB), (host, VBD), (We...</td>\n",
       "    </tr>\n",
       "    <tr>\n",
       "      <th>2</th>\n",
       "      <td>794633</td>\n",
       "      <td>[Great, space, good, location, gracious, host,...</td>\n",
       "      <td>[(Great, JJ), (space, NN), (good, JJ), (locati...</td>\n",
       "    </tr>\n",
       "    <tr>\n",
       "      <th>3</th>\n",
       "      <td>958475</td>\n",
       "      <td>[When, arrived, Annex, everything, arranged, l...</td>\n",
       "      <td>[(When, WRB), (arrived, VBN), (Annex, NNP), (e...</td>\n",
       "    </tr>\n",
       "    <tr>\n",
       "      <th>4</th>\n",
       "      <td>7381005</td>\n",
       "      <td>[Magic, Jeff, place, incredible, location, per...</td>\n",
       "      <td>[(Magic, NNP), (Jeff, NNP), (place, NN), (incr...</td>\n",
       "    </tr>\n",
       "  </tbody>\n",
       "</table>\n",
       "</div>"
      ],
      "text/plain": [
       "   listing_id_new                                  comments_text_new  \\\n",
       "0         2727938  [Jessica, place, delightfully, cozy, close, ma...   \n",
       "1          598023  [Jeff, friendly, host, We, chance, go, togethe...   \n",
       "2          794633  [Great, space, good, location, gracious, host,...   \n",
       "3          958475  [When, arrived, Annex, everything, arranged, l...   \n",
       "4         7381005  [Magic, Jeff, place, incredible, location, per...   \n",
       "\n",
       "                                        comments_pos  \n",
       "0  [(Jessica, NNP), (place, NN), (delightfully, R...  \n",
       "1  [(Jeff, NNP), (friendly, RB), (host, VBD), (We...  \n",
       "2  [(Great, JJ), (space, NN), (good, JJ), (locati...  \n",
       "3  [(When, WRB), (arrived, VBN), (Annex, NNP), (e...  \n",
       "4  [(Magic, NNP), (Jeff, NNP), (place, NN), (incr...  "
      ]
     },
     "execution_count": 7,
     "metadata": {},
     "output_type": "execute_result"
    }
   ],
   "source": [
    "#part of speech tagging for each words\n",
    "data_reviews_agg_df['comments_pos']=data_reviews_agg_df['comments_text_new'].map(lambda comment:nltk.pos_tag(comment))\n",
    "data_reviews_agg_df.head()"
   ]
  },
  {
   "cell_type": "markdown",
   "metadata": {},
   "source": [
    "We are only interested in nouns('NN','NNS','NNP','NNPS'),adjectives('JJ','JJR','JJS') and adverbs('RB','RBR','RBS').Firstly we calculate nouns ,adjectives and adverbs in the first listing_id and see the most frequency words are 'great'(19 times),'Jessica'(16times),'apartment'(11times), and so on ."
   ]
  },
  {
   "cell_type": "code",
   "execution_count": 8,
   "metadata": {},
   "outputs": [
    {
     "name": "stdout",
     "output_type": "stream",
     "text": [
      "          great         Jessica       apartment           place            easy           close        location      everything          really            host    neighborhood            many            time         Seattle        distance           space            bars         perfect            stay      definitely           Loved            area            walk            view         Capitol            Hill             art           walls         weekend     restaurants          little        probably         windows            nice             lot            lots         awesome     communicate         Overall      experience         totally             far          enough            part      convenient             min        downtown           quick         jessica           stars           visit          minute           noise            open             bad           super           clean         exactly           whole          plants            well      absolutely            tips          public             bit            nook    delightfully          sights           feels             fit           stays            home         amazing       character         PERFECT             Not        anything           Close             bus           lines            safe           Would           quiet          street           still         Awesome        spacious          studio           Super         helpful          action           drive         highway      Definitely       wonderful          lovely             fun            cool            spot         fifteen            also         freeway         intense            wide          entire         weather              AC         however            half        friendly          things             key           small         process            Love          indoor          unique      accurately          Easily        walkable          venues        fabulous            head      responsive          polite           email    conversation           hints         transit          places       condition             way           rainy             Had           clear     instruction     extravagant       grotesque         details           stuff              Ca           short        somewhat          hectic           quite           sweet       necessity       breakfast         kitchen            Cozy         private     memorabilia        favorite           thick         handful       intensity          crowds          Analog          Coffee          Barjot             Sun          Liquor       effective       efficient    communicator     information           Great             Ish            flat       beautiful          homely       extremely            last     reservation          people             hot         traffic         outside        detailed       extensive       itinerary        complete            list recommendations          travel             car  transportation            even          better          Thanks              So           parks           shops          kindly          coffee           local          brunch           ready \n",
      "             19              16              11               9               7               6               6               5               5               5               5               4               4               4               4               4               3               3               3               3               3               3               3               3               3               3               3               3               3               3               3               3               3               3               3               3               2               2               2               2               2               2               2               2               2               2               2               2               2               2               2               2               2               2               2               2               2               2               2               2               2               2               2               2               2               2               1               1               1               1               1               1               1               1               1               1               1               1               1               1               1               1               1               1               1               1               1               1               1               1               1               1               1               1               1               1               1               1               1               1               1               1               1               1               1               1               1               1               1               1               1               1               1               1               1               1               1               1               1               1               1               1               1               1               1               1               1               1               1               1               1               1               1               1               1               1               1               1               1               1               1               1               1               1               1               1               1               1               1               1               1               1               1               1               1               1               1               1               1               1               1               1               1               1               1               1               1               1               1               1               1               1               1               1               1               1               1               1               1               1               1               1               1               1               1               1               1               1               1               1               1               1               1               1               1               1               1               1 \n"
     ]
    }
   ],
   "source": [
    "tags=set(['JJ','JJR','JJS','NN','NNS','NNP','NNPS','RB','RBR','RBS'])\n",
    "cfd=nltk.ConditionalFreqDist()\n",
    "for word,tag in data_reviews_agg_df['comments_pos'].iloc[0]:\n",
    "    if tag in tags:\n",
    "        cfd['general'][word]+=1\n",
    "        if tag in ['JJ','JJR','JJS']:\n",
    "            cfd['adj'][word]+=1\n",
    "        elif tag in ['NN','NNS','NNP','NNPS']:\n",
    "            cfd['noun'][word]+=1\n",
    "        elif tag in ['RB','RBR','RBS']:\n",
    "            cfd['adv'][word]+=1\n",
    "    \n",
    "cfd['general'].tabulate()"
   ]
  },
  {
   "cell_type": "markdown",
   "metadata": {},
   "source": [
    "Now we calculate words frequency for the data_reviews_add_df ."
   ]
  },
  {
   "cell_type": "code",
   "execution_count": 9,
   "metadata": {},
   "outputs": [],
   "source": [
    "def conditionfrequency(comments_pos):\n",
    "    tags=set(['JJ','JJR','JJS','NN','NNS','NNP','NNPS','RB','RBR','RBS'])\n",
    "    cfd=nltk.ConditionalFreqDist()\n",
    "    for word,tag in comments_pos:\n",
    "        if tag in tags:\n",
    "            cfd['general'][word]+=1\n",
    "            if tag in ['JJ','JJR','JJS']:\n",
    "                cfd['adj'][word]+=1\n",
    "            elif tag in ['NN','NNS','NNP','NNPS']:\n",
    "                cfd['noun'][word]+=1\n",
    "            elif tag in ['RB','RBR','RBS']:\n",
    "                cfd['adv'][word]+=1\n",
    "    return cfd\n",
    "data_reviews_agg_df['conditionfrequency']=data_reviews_agg_df['comments_pos'].map(conditionfrequency)\n"
   ]
  },
  {
   "cell_type": "markdown",
   "metadata": {},
   "source": [
    "We not only calculate each category of nouns, adjectives and adverb but also calculate  'general' words frequency for mix of the nouns ,adjectives and adverbs."
   ]
  },
  {
   "cell_type": "code",
   "execution_count": 10,
   "metadata": {},
   "outputs": [
    {
     "data": {
      "text/plain": [
       "['general', 'noun', 'adv', 'adj']"
      ]
     },
     "execution_count": 10,
     "metadata": {},
     "output_type": "execute_result"
    }
   ],
   "source": [
    "data_reviews_agg_df.iloc[0].conditionfrequency.conditions()"
   ]
  },
  {
   "cell_type": "markdown",
   "metadata": {},
   "source": [
    "We see the top 5 words to describe first listing_id is as following:"
   ]
  },
  {
   "cell_type": "code",
   "execution_count": 11,
   "metadata": {},
   "outputs": [
    {
     "name": "stdout",
     "output_type": "stream",
     "text": [
      "The top 5 words to decribe the first listing_id is  ['Jessica', 'place', 'delightfully', 'close', 'many']\n"
     ]
    }
   ],
   "source": [
    "t=data_reviews_agg_df.iloc[0]['conditionfrequency']['general'].items()\n",
    "topword=[key for key,value in t ]\n",
    "print ('The top 5 words to decribe the first listing_id is ',topword[:5])"
   ]
  },
  {
   "cell_type": "code",
   "execution_count": 12,
   "metadata": {},
   "outputs": [
    {
     "name": "stdout",
     "output_type": "stream",
     "text": [
      "The top 5 nouns to decribe the first listing_id is  ['Jessica', 'place', 'sights', 'bars', 'apartment']\n"
     ]
    }
   ],
   "source": [
    "t=data_reviews_agg_df.iloc[0]['conditionfrequency']['noun'].items()\n",
    "topword=[key for key,value in t ]\n",
    "print ('The top 5 nouns to decribe the first listing_id is ',topword[:5])"
   ]
  },
  {
   "cell_type": "code",
   "execution_count": 13,
   "metadata": {},
   "outputs": [
    {
     "name": "stdout",
     "output_type": "stream",
     "text": [
      "The top 5 adjectives to decribe the first listing_id is  ['close', 'many', 'awesome', 'perfect', 'fit']\n"
     ]
    }
   ],
   "source": [
    "t=data_reviews_agg_df.iloc[0]['conditionfrequency']['adj'].items()\n",
    "topword=[key for key,value in t ]\n",
    "print ('The top 5 adjectives to decribe the first listing_id is ', topword[:5])"
   ]
  },
  {
   "cell_type": "code",
   "execution_count": 14,
   "metadata": {},
   "outputs": [
    {
     "name": "stdout",
     "output_type": "stream",
     "text": [
      "The top 5 adverbs to decribe the first listing_id is  ['delightfully', 'definitely', 'totally', 'home', 'Not']\n"
     ]
    }
   ],
   "source": [
    "t=data_reviews_agg_df.iloc[0]['conditionfrequency']['adv'].items()\n",
    "topword=[key for key,value in t ]\n",
    "print ('The top 5 adverbs to decribe the first listing_id is ', topword[:5])"
   ]
  },
  {
   "cell_type": "markdown",
   "metadata": {},
   "source": [
    "We calculate top words for each category and store them in data_reviews_agg_df ."
   ]
  },
  {
   "cell_type": "code",
   "execution_count": 15,
   "metadata": {},
   "outputs": [],
   "source": [
    "#calculate top words in each category: general,noun,adjective,adverb\n",
    "topword_general=[]\n",
    "topword_adj=[]\n",
    "topword_adv=[]\n",
    "topword_noun=[]\n",
    "for key,value in data_reviews_agg_df['conditionfrequency'].items():\n",
    "    t1=value['general'].items()\n",
    "    words1=[k for k,v in t1]\n",
    "    topword_general.append(words1[:5])\n",
    "    t2=value['adj'].items()\n",
    "    words2=[k for k,v in t2]\n",
    "    topword_adj.append(words2[:5])\n",
    "    t3=value['adv'].items()\n",
    "    words3=[k for k,v in t3]\n",
    "    topword_adv.append(words3[:5])\n",
    "    t4=value['noun'].items()\n",
    "    words4=[k for k,v in t4]\n",
    "    topword_noun.append(words4[:5])\n"
   ]
  },
  {
   "cell_type": "code",
   "execution_count": 16,
   "metadata": {},
   "outputs": [
    {
     "data": {
      "text/html": [
       "<div>\n",
       "<style scoped>\n",
       "    .dataframe tbody tr th:only-of-type {\n",
       "        vertical-align: middle;\n",
       "    }\n",
       "\n",
       "    .dataframe tbody tr th {\n",
       "        vertical-align: top;\n",
       "    }\n",
       "\n",
       "    .dataframe thead th {\n",
       "        text-align: right;\n",
       "    }\n",
       "</style>\n",
       "<table border=\"1\" class=\"dataframe\">\n",
       "  <thead>\n",
       "    <tr style=\"text-align: right;\">\n",
       "      <th></th>\n",
       "      <th>listing_id_new</th>\n",
       "      <th>comments_text_new</th>\n",
       "      <th>comments_pos</th>\n",
       "      <th>conditionfrequency</th>\n",
       "      <th>top_general_words</th>\n",
       "      <th>top_adj_words</th>\n",
       "      <th>top_adv_words</th>\n",
       "      <th>top_noun_words</th>\n",
       "    </tr>\n",
       "  </thead>\n",
       "  <tbody>\n",
       "    <tr>\n",
       "      <th>0</th>\n",
       "      <td>2727938</td>\n",
       "      <td>[Jessica, place, delightfully, cozy, close, ma...</td>\n",
       "      <td>[(Jessica, NNP), (place, NN), (delightfully, R...</td>\n",
       "      <td>{'general': {'Jessica': 16, 'place': 9, 'delig...</td>\n",
       "      <td>[Jessica, place, delightfully, close, many]</td>\n",
       "      <td>[close, many, awesome, perfect, fit]</td>\n",
       "      <td>[delightfully, definitely, totally, home, Not]</td>\n",
       "      <td>[Jessica, place, sights, bars, apartment]</td>\n",
       "    </tr>\n",
       "    <tr>\n",
       "      <th>1</th>\n",
       "      <td>598023</td>\n",
       "      <td>[Jeff, friendly, host, We, chance, go, togethe...</td>\n",
       "      <td>[(Jeff, NNP), (friendly, RB), (host, VBD), (We...</td>\n",
       "      <td>{'general': {'Jeff': 6, 'friendly': 5, 'chance...</td>\n",
       "      <td>[Jeff, friendly, chance, together, lunch]</td>\n",
       "      <td>[lunch, great, big, gracious, downtown]</td>\n",
       "      <td>[friendly, together, also, lovely, soon]</td>\n",
       "      <td>[Jeff, chance, beach, area, time]</td>\n",
       "    </tr>\n",
       "    <tr>\n",
       "      <th>2</th>\n",
       "      <td>794633</td>\n",
       "      <td>[Great, space, good, location, gracious, host,...</td>\n",
       "      <td>[(Great, JJ), (space, NN), (good, JJ), (locati...</td>\n",
       "      <td>{'general': {'Great': 46, 'space': 32, 'good':...</td>\n",
       "      <td>[Great, space, good, location, gracious]</td>\n",
       "      <td>[Great, good, gracious, wine, modern]</td>\n",
       "      <td>[Highly, friendly, visit, exactly, Very]</td>\n",
       "      <td>[space, location, host, studio, apartment]</td>\n",
       "    </tr>\n",
       "    <tr>\n",
       "      <th>3</th>\n",
       "      <td>958475</td>\n",
       "      <td>[When, arrived, Annex, everything, arranged, l...</td>\n",
       "      <td>[(When, WRB), (arrived, VBN), (Annex, NNP), (e...</td>\n",
       "      <td>{'general': {'Annex': 20, 'everything': 31, 'e...</td>\n",
       "      <td>[Annex, everything, entrance, keypad, entry]</td>\n",
       "      <td>[keypad, automatic, first, spacious, array]</td>\n",
       "      <td>[fully, well, impeccably, always, promptly]</td>\n",
       "      <td>[Annex, everything, entrance, entry, light]</td>\n",
       "    </tr>\n",
       "    <tr>\n",
       "      <th>4</th>\n",
       "      <td>7381005</td>\n",
       "      <td>[Magic, Jeff, place, incredible, location, per...</td>\n",
       "      <td>[(Magic, NNP), (Jeff, NNP), (place, NN), (incr...</td>\n",
       "      <td>{'general': {'Magic': 4, 'Jeff': 5, 'place': 3...</td>\n",
       "      <td>[Magic, Jeff, place, incredible, location]</td>\n",
       "      <td>[incredible, great, clean, stylish, comfortable]</td>\n",
       "      <td>[especially, extremely, even, definitely, really]</td>\n",
       "      <td>[Magic, Jeff, place, location, perfect]</td>\n",
       "    </tr>\n",
       "  </tbody>\n",
       "</table>\n",
       "</div>"
      ],
      "text/plain": [
       "   listing_id_new                                  comments_text_new  \\\n",
       "0         2727938  [Jessica, place, delightfully, cozy, close, ma...   \n",
       "1          598023  [Jeff, friendly, host, We, chance, go, togethe...   \n",
       "2          794633  [Great, space, good, location, gracious, host,...   \n",
       "3          958475  [When, arrived, Annex, everything, arranged, l...   \n",
       "4         7381005  [Magic, Jeff, place, incredible, location, per...   \n",
       "\n",
       "                                        comments_pos  \\\n",
       "0  [(Jessica, NNP), (place, NN), (delightfully, R...   \n",
       "1  [(Jeff, NNP), (friendly, RB), (host, VBD), (We...   \n",
       "2  [(Great, JJ), (space, NN), (good, JJ), (locati...   \n",
       "3  [(When, WRB), (arrived, VBN), (Annex, NNP), (e...   \n",
       "4  [(Magic, NNP), (Jeff, NNP), (place, NN), (incr...   \n",
       "\n",
       "                                  conditionfrequency  \\\n",
       "0  {'general': {'Jessica': 16, 'place': 9, 'delig...   \n",
       "1  {'general': {'Jeff': 6, 'friendly': 5, 'chance...   \n",
       "2  {'general': {'Great': 46, 'space': 32, 'good':...   \n",
       "3  {'general': {'Annex': 20, 'everything': 31, 'e...   \n",
       "4  {'general': {'Magic': 4, 'Jeff': 5, 'place': 3...   \n",
       "\n",
       "                              top_general_words  \\\n",
       "0   [Jessica, place, delightfully, close, many]   \n",
       "1     [Jeff, friendly, chance, together, lunch]   \n",
       "2      [Great, space, good, location, gracious]   \n",
       "3  [Annex, everything, entrance, keypad, entry]   \n",
       "4    [Magic, Jeff, place, incredible, location]   \n",
       "\n",
       "                                      top_adj_words  \\\n",
       "0              [close, many, awesome, perfect, fit]   \n",
       "1           [lunch, great, big, gracious, downtown]   \n",
       "2             [Great, good, gracious, wine, modern]   \n",
       "3       [keypad, automatic, first, spacious, array]   \n",
       "4  [incredible, great, clean, stylish, comfortable]   \n",
       "\n",
       "                                       top_adv_words  \\\n",
       "0     [delightfully, definitely, totally, home, Not]   \n",
       "1           [friendly, together, also, lovely, soon]   \n",
       "2           [Highly, friendly, visit, exactly, Very]   \n",
       "3        [fully, well, impeccably, always, promptly]   \n",
       "4  [especially, extremely, even, definitely, really]   \n",
       "\n",
       "                                top_noun_words  \n",
       "0    [Jessica, place, sights, bars, apartment]  \n",
       "1            [Jeff, chance, beach, area, time]  \n",
       "2   [space, location, host, studio, apartment]  \n",
       "3  [Annex, everything, entrance, entry, light]  \n",
       "4      [Magic, Jeff, place, location, perfect]  "
      ]
     },
     "execution_count": 16,
     "metadata": {},
     "output_type": "execute_result"
    }
   ],
   "source": [
    "data_reviews_agg_df.insert(loc=data_reviews_agg_df.shape[1],column='top_general_words',value=topword_general)\n",
    "data_reviews_agg_df.insert(loc=data_reviews_agg_df.shape[1],column='top_adj_words',value=topword_adj)\n",
    "data_reviews_agg_df.insert(loc=data_reviews_agg_df.shape[1],column='top_adv_words',value=topword_adv)\n",
    "data_reviews_agg_df.insert(loc=data_reviews_agg_df.shape[1],column='top_noun_words',value=topword_noun)\n",
    "data_reviews_agg_df.head()"
   ]
  },
  {
   "cell_type": "markdown",
   "metadata": {},
   "source": [
    "Now we can easily access top words by listing_id"
   ]
  },
  {
   "cell_type": "code",
   "execution_count": 17,
   "metadata": {},
   "outputs": [
    {
     "data": {
      "text/html": [
       "<div>\n",
       "<style scoped>\n",
       "    .dataframe tbody tr th:only-of-type {\n",
       "        vertical-align: middle;\n",
       "    }\n",
       "\n",
       "    .dataframe tbody tr th {\n",
       "        vertical-align: top;\n",
       "    }\n",
       "\n",
       "    .dataframe thead th {\n",
       "        text-align: right;\n",
       "    }\n",
       "</style>\n",
       "<table border=\"1\" class=\"dataframe\">\n",
       "  <thead>\n",
       "    <tr style=\"text-align: right;\">\n",
       "      <th></th>\n",
       "      <th>listing_id_new</th>\n",
       "      <th>comments_text_new</th>\n",
       "      <th>top_general_words</th>\n",
       "      <th>top_adv_words</th>\n",
       "      <th>top_adj_words</th>\n",
       "      <th>top_noun_words</th>\n",
       "    </tr>\n",
       "  </thead>\n",
       "  <tbody>\n",
       "    <tr>\n",
       "      <th>1</th>\n",
       "      <td>598023</td>\n",
       "      <td>[Jeff, friendly, host, We, chance, go, togethe...</td>\n",
       "      <td>[Jeff, friendly, chance, together, lunch]</td>\n",
       "      <td>[friendly, together, also, lovely, soon]</td>\n",
       "      <td>[lunch, great, big, gracious, downtown]</td>\n",
       "      <td>[Jeff, chance, beach, area, time]</td>\n",
       "    </tr>\n",
       "  </tbody>\n",
       "</table>\n",
       "</div>"
      ],
      "text/plain": [
       "   listing_id_new                                  comments_text_new  \\\n",
       "1          598023  [Jeff, friendly, host, We, chance, go, togethe...   \n",
       "\n",
       "                           top_general_words  \\\n",
       "1  [Jeff, friendly, chance, together, lunch]   \n",
       "\n",
       "                              top_adv_words  \\\n",
       "1  [friendly, together, also, lovely, soon]   \n",
       "\n",
       "                             top_adj_words                     top_noun_words  \n",
       "1  [lunch, great, big, gracious, downtown]  [Jeff, chance, beach, area, time]  "
      ]
     },
     "execution_count": 17,
     "metadata": {},
     "output_type": "execute_result"
    }
   ],
   "source": [
    "data_reviews_agg_df[data_reviews_agg_df['listing_id_new']==598023][['listing_id_new','comments_text_new','top_general_words','top_adv_words','top_adj_words','top_noun_words']]"
   ]
  },
  {
   "cell_type": "code",
   "execution_count": null,
   "metadata": {},
   "outputs": [],
   "source": []
  },
  {
   "cell_type": "code",
   "execution_count": null,
   "metadata": {},
   "outputs": [],
   "source": []
  }
 ],
 "metadata": {
  "kernelspec": {
   "display_name": "Python 3",
   "language": "python",
   "name": "python3"
  },
  "language_info": {
   "codemirror_mode": {
    "name": "ipython",
    "version": 3
   },
   "file_extension": ".py",
   "mimetype": "text/x-python",
   "name": "python",
   "nbconvert_exporter": "python",
   "pygments_lexer": "ipython3",
   "version": "3.7.0"
  }
 },
 "nbformat": 4,
 "nbformat_minor": 2
}
